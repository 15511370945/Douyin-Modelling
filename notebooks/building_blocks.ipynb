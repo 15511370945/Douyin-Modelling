{
 "cells": [
  {
   "cell_type": "code",
   "execution_count": 1,
   "metadata": {},
   "outputs": [],
   "source": []
  },
  {
   "cell_type": "code",
   "execution_count": 2,
   "metadata": {},
   "outputs": [],
   "source": [
    "\n",
    "import numpy as np\n",
    "import pandas as pd\n",
    "import matplotlib.pyplot as plt\n",
    "from IPython.core.pylabtools import figsize\n",
    "from sklearn.preprocessing import StandardScaler\n",
    "from sklearn.preprocessing import FunctionTransformer\n",
    "from sklearn.pipeline import Pipeline, FeatureUnion"
   ]
  },
  {
   "cell_type": "code",
   "execution_count": 7,
   "metadata": {},
   "outputs": [
    {
     "data": {
      "text/plain": [
       "array([[  1.51051143,  -1.24069062,   0.82153756, ...,   0.        ,\n",
       "          1.        ,   0.        ],\n",
       "       [ -2.20595197,  -4.07873666, -11.06991087, ...,   0.        ,\n",
       "          1.        ,   0.        ],\n",
       "       [ -0.01997591,   0.69663978,   0.42187989, ...,   0.        ,\n",
       "          0.        ,   1.        ],\n",
       "       ...,\n",
       "       [ -0.93796347,   0.17157973,  -0.15423026, ...,   0.        ,\n",
       "          0.        ,   0.        ],\n",
       "       [ -0.23443284,  -0.08528544,   0.16881485, ...,   0.        ,\n",
       "          0.        ,   0.        ],\n",
       "       [  0.64313752,   1.55685851,   0.7593428 , ...,   0.        ,\n",
       "          0.        ,   0.        ]])"
      ]
     },
     "execution_count": 7,
     "metadata": {},
     "output_type": "execute_result"
    }
   ],
   "source": [
    "from preprocess_user import make_user_fans_pipeline\n",
    "from etl import load_user_info_features\n",
    "from etl import load_fans_info_features\n",
    "\n",
    "user = load_user_info_features()\n",
    "fans = load_fans_info_features()\n",
    "df = user.merge(fans, on = 'id', how = 'inner')\n",
    "pipe = make_user_fans_pipeline(30)\n",
    "pipe.fit_transform(df)"
   ]
  },
  {
   "cell_type": "code",
   "execution_count": 36,
   "metadata": {},
   "outputs": [],
   "source": [
    "# def make_user_fans_pipeline(n_regions = 30):\n",
    "    \n",
    "#     # define numeric features\n",
    "#     numeric_cols = ['fans','videos','index_number','likes','day_周一','day_周二', 'day_周三', 'day_周四','day_周五',\n",
    "#      'day_周六','day_周日','week_0','week_1','week_2','week_3','week_4','week_5','week_6','week_7','week_8','week_9',\n",
    "#      'week_10','week_11','week_12','week_13','week_14','week_15','week_16','week_17','week_18','week_19','week_20',\n",
    "#      'week_21','week_22','week_23','male_<=17岁','male_18-24岁','male_25-32岁','male_33-39岁','male_40-46岁','male_>46岁',\n",
    "#      'female_<=17岁','female_18-24岁','female_25-32岁','female_33-39岁','female_40-46岁','female_>46岁',\n",
    "#      'city_level_其他','city_level_超一线与一线','city_level_三线','city_level_二线','city_level_四线','city_level_五线']\n",
    "    \n",
    "#     # define categorical features\n",
    "#     cat_cols = ['sex_未知','sex_男','sex_女','tag_职场','tag_明星','tag_政务','tag_情感',\n",
    "#      'tag_其他','tag_搭配','tag_动漫','tag_帅哥','tag_食品','tag_宠物','tag_剧情',\n",
    "#      'tag_教育','tag_科技','tag_蓝V','tag_舞蹈','tag_知识','tag_幽默','tag_游戏',\n",
    "#      'tag_汽车','tag_生活','tag_母婴','tag_奇趣','tag_教学','tag_美女','tag_种草',\n",
    "#      'tag_运动','tag_美妆','tag_家居','tag_音乐','tag_品味','tag_健康','tag_少儿',\n",
    "#      'tag_影视','tag_旅行','city_level_Others','city_level_五线城市','city_level_一线城市',\n",
    "#      'city_level_四线城市','city_level_三线城市','city_level_Missing','city_level_二线城市']\n",
    "    \n",
    "#     # numeric pipeline\n",
    "#     num_selector = FunctionTransformer(lambda x:x[numeric_cols])\n",
    "#     log_transformer = FunctionTransformer(lambda x:np.log1p(x))\n",
    "#     scaler = StandardScaler()\n",
    "#     numeric_pipeline = Pipeline(steps = [('num_select', num_selector),\n",
    "#                                          ('log_transform',log_transformer),\n",
    "#                                          ('scaler', scaler)])\n",
    "    \n",
    "#     # compress region features\n",
    "#     def region_feature_compressor(df,n = n_regions):\n",
    "#         region_cols = [col for col in df.columns if col.startswith('region')]\n",
    "#         top_regions = df[region_cols].sum().\\\n",
    "#             sort_values(ascending = False).iloc[1:n].index.tolist()\n",
    "#         region_df = df[top_regions].copy()\n",
    "#         region_df['region_others'] = 0\n",
    "#         region_df.loc[(region_df.sum(axis = 1) == 0).values,'region_others'] = 1\n",
    "#         return region_df\n",
    "#     region_compressor = FunctionTransformer(region_feature_compressor)\n",
    "\n",
    "#     # categorical features\n",
    "#     categorical_selector = FunctionTransformer(lambda x:x[cat_cols])\n",
    "    \n",
    "#     # make a pipeline\n",
    "#     user_fans_pipeline = FeatureUnion([('numeric_pipe', numeric_pipeline),\n",
    "#                                    ('region_features',region_compressor),\n",
    "#                                    ('categorical',categorical_selector)])\n",
    "    \n",
    "#     return user_fans_pipeline"
   ]
  },
  {
   "cell_type": "code",
   "execution_count": 46,
   "metadata": {},
   "outputs": [
    {
     "data": {
      "text/plain": [
       "(8468, 127)"
      ]
     },
     "execution_count": 46,
     "metadata": {},
     "output_type": "execute_result"
    }
   ],
   "source": [
    "pipe = make_user_fans_pipeline(30)\n",
    "pipe.fit_transform(df).shape"
   ]
  }
 ],
 "metadata": {
  "kernelspec": {
   "display_name": "py3",
   "language": "python",
   "name": "py3"
  },
  "language_info": {
   "codemirror_mode": {
    "name": "ipython",
    "version": 3
   },
   "file_extension": ".py",
   "mimetype": "text/x-python",
   "name": "python",
   "nbconvert_exporter": "python",
   "pygments_lexer": "ipython3",
   "version": "3.6.10"
  }
 },
 "nbformat": 4,
 "nbformat_minor": 4
}
