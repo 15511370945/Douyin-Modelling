{
 "cells": [
  {
   "cell_type": "code",
   "execution_count": 1,
   "metadata": {},
   "outputs": [],
   "source": [
    "from data_utils import cut_text,find_chinese,replace_puncs,remove_blanks\n",
    "import numpy as np\n",
    "import pandas as pd\n",
    "import pickle\n",
    "import pymysql"
   ]
  },
  {
   "cell_type": "code",
   "execution_count": 2,
   "metadata": {},
   "outputs": [
    {
     "name": "stderr",
     "output_type": "stream",
     "text": [
      "/Users/huan/anaconda/envs/py3/lib/python3.6/site-packages/h5py/__init__.py:36: FutureWarning: Conversion of the second argument of issubdtype from `float` to `np.floating` is deprecated. In future, it will be treated as `np.float64 == np.dtype(float).type`.\n",
      "  from ._conv import register_converters as _register_converters\n",
      "Using TensorFlow backend.\n"
     ]
    }
   ],
   "source": [
    "from item_embedding import *"
   ]
  },
  {
   "cell_type": "code",
   "execution_count": 3,
   "metadata": {},
   "outputs": [],
   "source": [
    "conn = pymysql.connect(host = '127.0.0.1', \n",
    "                       user = 'root', \n",
    "                       password = 'root123', \n",
    "                       db = 'delidou')\n",
    "\n",
    "df = pd.read_sql_query('select link_id,name,tag from base_goods', conn)"
   ]
  },
  {
   "cell_type": "code",
   "execution_count": 4,
   "metadata": {},
   "outputs": [
    {
     "name": "stderr",
     "output_type": "stream",
     "text": [
      "Building prefix dict from the default dictionary ...\n",
      "WARNING: Logging before flag parsing goes to stderr.\n",
      "I0712 15:35:17.832249 4688723392 __init__.py:111] Building prefix dict from the default dictionary ...\n",
      "Loading model from cache /var/folders/jh/q3qgwx4n59b_rg88dkbcb20m0000gn/T/jieba.cache\n",
      "I0712 15:35:17.834522 4688723392 __init__.py:131] Loading model from cache /var/folders/jh/q3qgwx4n59b_rg88dkbcb20m0000gn/T/jieba.cache\n",
      "Loading model cost 0.679 seconds.\n",
      "I0712 15:35:18.513515 4688723392 __init__.py:163] Loading model cost 0.679 seconds.\n",
      "Prefix dict has been built succesfully.\n",
      "I0712 15:35:18.515223 4688723392 __init__.py:164] Prefix dict has been built succesfully.\n"
     ]
    },
    {
     "data": {
      "text/plain": [
       "array([[1.6078395 , 1.343752  , 1.5655206 , ..., 1.5918242 , 0.2544883 ,\n",
       "        0.        ],\n",
       "       [1.8313252 , 4.146857  , 1.8600727 , ..., 2.6242979 , 0.        ,\n",
       "        0.        ],\n",
       "       [1.7880347 , 2.748125  , 2.7663355 , ..., 3.7183611 , 1.2350377 ,\n",
       "        0.        ],\n",
       "       ...,\n",
       "       [0.        , 2.1731772 , 2.096173  , ..., 1.058331  , 0.        ,\n",
       "        0.        ],\n",
       "       [0.8811447 , 1.8163656 , 1.8840673 , ..., 2.163223  , 0.        ,\n",
       "        0.        ],\n",
       "       [0.44215012, 2.1012866 , 0.9404878 , ..., 2.7497427 , 0.99509335,\n",
       "        0.        ]], dtype=float32)"
      ]
     },
     "execution_count": 4,
     "metadata": {},
     "output_type": "execute_result"
    }
   ],
   "source": [
    "# item_encode(df)\n",
    "# predict_tag(df)"
   ]
  },
  {
   "cell_type": "code",
   "execution_count": null,
   "metadata": {},
   "outputs": [],
   "source": []
  }
 ],
 "metadata": {
  "kernelspec": {
   "display_name": "py3",
   "language": "python",
   "name": "py3"
  },
  "language_info": {
   "codemirror_mode": {
    "name": "ipython",
    "version": 3
   },
   "file_extension": ".py",
   "mimetype": "text/x-python",
   "name": "python",
   "nbconvert_exporter": "python",
   "pygments_lexer": "ipython3",
   "version": "3.6.10"
  }
 },
 "nbformat": 4,
 "nbformat_minor": 4
}
