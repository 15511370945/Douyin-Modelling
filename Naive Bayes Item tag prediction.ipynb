{
 "cells": [
  {
   "cell_type": "code",
   "execution_count": 49,
   "metadata": {},
   "outputs": [],
   "source": [
    "import pymysql\n",
    "import pandas as pd\n",
    "import numpy as np\n",
    "import re\n",
    "import jieba\n",
    "from sklearn.feature_extraction.text import TfidfVectorizer\n",
    "from sklearn.naive_bayes import MultinomialNB\n",
    "from sklearn.model_selection import train_test_split\n",
    "pd.set_option('max_rows',1000)"
   ]
  },
  {
   "cell_type": "code",
   "execution_count": 2,
   "metadata": {},
   "outputs": [],
   "source": [
    "def find_chinese(file):\n",
    "    pattern = re.compile(r'[^\\u4e00-\\u9fa5]')\n",
    "    chinese = re.sub(pattern, '', file)\n",
    "    return chinese\n",
    "\n",
    "replace_puncs = lambda x: re.sub(r'[^\\w\\s]','',x)\n",
    "remove_blanks = lambda x: re.sub(r'\\s{2,}','',x)\n",
    "cut_text = lambda x: list(jieba.cut(x,cut_all=False))"
   ]
  },
  {
   "cell_type": "code",
   "execution_count": 3,
   "metadata": {},
   "outputs": [
    {
     "name": "stderr",
     "output_type": "stream",
     "text": [
      "Building prefix dict from the default dictionary ...\n",
      "Loading model from cache /var/folders/jh/q3qgwx4n59b_rg88dkbcb20m0000gn/T/jieba.cache\n",
      "Loading model cost 0.609 seconds.\n",
      "Prefix dict has been built succesfully.\n"
     ]
    }
   ],
   "source": [
    "conn = pymysql.connect(host = '127.0.0.1', \n",
    "                       user = 'root', \n",
    "                       password = 'root123', \n",
    "                       db = 'delidou')\n",
    "\n",
    "df = pd.read_sql_query('select link_id, name, tag from base_goods', conn)\n",
    "df['clean_name'] = df.name.apply(remove_blanks).apply(replace_puncs).apply(find_chinese)\n",
    "df['cutted_text'] = df.clean_name.apply(cut_text)\n",
    "df['texts'] = df.cutted_text.apply(lambda x:' '.join(x))\n",
    "tagged_df = df[df.tag != '']\n",
    "untagged_df = df[df.tag == '']"
   ]
  },
  {
   "cell_type": "code",
   "execution_count": 4,
   "metadata": {},
   "outputs": [
    {
     "name": "stderr",
     "output_type": "stream",
     "text": [
      "/Users/huan/anaconda/envs/py3/lib/python3.6/site-packages/ipykernel_launcher.py:3: SettingWithCopyWarning: \n",
      "A value is trying to be set on a copy of a slice from a DataFrame.\n",
      "Try using .loc[row_indexer,col_indexer] = value instead\n",
      "\n",
      "See the caveats in the documentation: http://pandas.pydata.org/pandas-docs/stable/user_guide/indexing.html#returning-a-view-versus-a-copy\n",
      "  This is separate from the ipykernel package so we can avoid doing imports until\n"
     ]
    }
   ],
   "source": [
    "id2label = {i:t for i,t in enumerate(tagged_df.tag.unique())}\n",
    "label2id = { v:k for k,v in id2label.items()}\n",
    "tagged_df ['label'] = tagged_df.tag.replace(label2id)"
   ]
  },
  {
   "cell_type": "code",
   "execution_count": 26,
   "metadata": {},
   "outputs": [
    {
     "data": {
      "text/plain": [
       "TfidfVectorizer(analyzer='word', binary=False, decode_error='strict',\n",
       "                dtype=<class 'numpy.float64'>, encoding='utf-8',\n",
       "                input='content', lowercase=True, max_df=1.0, max_features=4000,\n",
       "                min_df=1, ngram_range=(1, 3), norm='l2', preprocessor=None,\n",
       "                smooth_idf=True, stop_words=None, strip_accents=None,\n",
       "                sublinear_tf=False, token_pattern='(?u)\\\\b\\\\w\\\\w+\\\\b',\n",
       "                tokenizer=None, use_idf=True, vocabulary=None)"
      ]
     },
     "execution_count": 26,
     "metadata": {},
     "output_type": "execute_result"
    }
   ],
   "source": [
    "vectorizer = TfidfVectorizer(max_features= 4000,ngram_range=(1,3))\n",
    "vectorizer.fit(tagged_df.texts)"
   ]
  },
  {
   "cell_type": "code",
   "execution_count": 27,
   "metadata": {},
   "outputs": [],
   "source": [
    "transformed_text = vectorizer.transform(tagged_df.texts).toarray()"
   ]
  },
  {
   "cell_type": "code",
   "execution_count": 28,
   "metadata": {},
   "outputs": [
    {
     "data": {
      "text/plain": [
       "(125658, 4000)"
      ]
     },
     "execution_count": 28,
     "metadata": {},
     "output_type": "execute_result"
    }
   ],
   "source": [
    "transformed_text.shape"
   ]
  },
  {
   "cell_type": "code",
   "execution_count": 29,
   "metadata": {},
   "outputs": [],
   "source": [
    "X_train,X_test, y_train,y_test = train_test_split(transformed_text,tagged_df.label.values, test_size = 0.15, random_state = 42)"
   ]
  },
  {
   "cell_type": "code",
   "execution_count": 30,
   "metadata": {},
   "outputs": [
    {
     "data": {
      "text/plain": [
       "MultinomialNB(alpha=1.0, class_prior=None, fit_prior=True)"
      ]
     },
     "execution_count": 30,
     "metadata": {},
     "output_type": "execute_result"
    }
   ],
   "source": [
    "bayes = MultinomialNB()\n",
    "bayes.fit(X_train,y_train)"
   ]
  },
  {
   "cell_type": "code",
   "execution_count": 31,
   "metadata": {},
   "outputs": [
    {
     "data": {
      "text/plain": [
       "0.8826462942331158"
      ]
     },
     "execution_count": 31,
     "metadata": {},
     "output_type": "execute_result"
    }
   ],
   "source": [
    "bayes.score(X_test, y_test)"
   ]
  },
  {
   "cell_type": "code",
   "execution_count": 44,
   "metadata": {},
   "outputs": [],
   "source": [
    "predictions = bayes.predict(vectorizer.transform(untagged_df.texts).toarray())"
   ]
  },
  {
   "cell_type": "code",
   "execution_count": 45,
   "metadata": {},
   "outputs": [],
   "source": [
    "labels = [id2label.get(p) for p in predictions]"
   ]
  },
  {
   "cell_type": "code",
   "execution_count": 46,
   "metadata": {},
   "outputs": [
    {
     "name": "stderr",
     "output_type": "stream",
     "text": [
      "/Users/huan/anaconda/envs/py3/lib/python3.6/site-packages/ipykernel_launcher.py:1: SettingWithCopyWarning: \n",
      "A value is trying to be set on a copy of a slice from a DataFrame.\n",
      "Try using .loc[row_indexer,col_indexer] = value instead\n",
      "\n",
      "See the caveats in the documentation: http://pandas.pydata.org/pandas-docs/stable/user_guide/indexing.html#returning-a-view-versus-a-copy\n",
      "  \"\"\"Entry point for launching an IPython kernel.\n"
     ]
    }
   ],
   "source": [
    "untagged_df['pred_tag'] = labels"
   ]
  },
  {
   "cell_type": "code",
   "execution_count": 51,
   "metadata": {},
   "outputs": [],
   "source": [
    "pred_train = bayes.predict(vectorizer.transform(tagged_df.texts).toarray())"
   ]
  },
  {
   "cell_type": "code",
   "execution_count": 53,
   "metadata": {},
   "outputs": [],
   "source": [
    "labels_train = [id2label.get(p) for p in pred_train]"
   ]
  },
  {
   "cell_type": "code",
   "execution_count": 54,
   "metadata": {},
   "outputs": [
    {
     "name": "stderr",
     "output_type": "stream",
     "text": [
      "/Users/huan/anaconda/envs/py3/lib/python3.6/site-packages/ipykernel_launcher.py:1: SettingWithCopyWarning: \n",
      "A value is trying to be set on a copy of a slice from a DataFrame.\n",
      "Try using .loc[row_indexer,col_indexer] = value instead\n",
      "\n",
      "See the caveats in the documentation: http://pandas.pydata.org/pandas-docs/stable/user_guide/indexing.html#returning-a-view-versus-a-copy\n",
      "  \"\"\"Entry point for launching an IPython kernel.\n"
     ]
    }
   ],
   "source": [
    "tagged_df['pred_tag'] = labels_train"
   ]
  },
  {
   "cell_type": "code",
   "execution_count": 56,
   "metadata": {},
   "outputs": [
    {
     "data": {
      "text/html": [
       "<div>\n",
       "<style scoped>\n",
       "    .dataframe tbody tr th:only-of-type {\n",
       "        vertical-align: middle;\n",
       "    }\n",
       "\n",
       "    .dataframe tbody tr th {\n",
       "        vertical-align: top;\n",
       "    }\n",
       "\n",
       "    .dataframe thead th {\n",
       "        text-align: right;\n",
       "    }\n",
       "</style>\n",
       "<table border=\"1\" class=\"dataframe\">\n",
       "  <thead>\n",
       "    <tr style=\"text-align: right;\">\n",
       "      <th></th>\n",
       "      <th>link_id</th>\n",
       "      <th>name</th>\n",
       "      <th>tag</th>\n",
       "      <th>clean_name</th>\n",
       "      <th>cutted_text</th>\n",
       "      <th>texts</th>\n",
       "      <th>label</th>\n",
       "      <th>pred_tag</th>\n",
       "    </tr>\n",
       "  </thead>\n",
       "  <tbody>\n",
       "    <tr>\n",
       "      <td>2</td>\n",
       "      <td>3ecdd3da072894bf5e34d56953bf128e</td>\n",
       "      <td>荞麦面低糖健康食品粗粮挂面杂粮冷面凉面 无糖食品 多规格包邮</td>\n",
       "      <td>其他</td>\n",
       "      <td>荞麦面低糖健康食品粗粮挂面杂粮冷面凉面无糖食品多规格包邮</td>\n",
       "      <td>[荞麦面, 低糖, 健康, 食品, 粗粮, 挂面, 杂粮, 冷面, 凉面, 无糖, 食品, ...</td>\n",
       "      <td>荞麦面 低糖 健康 食品 粗粮 挂面 杂粮 冷面 凉面 无糖 食品 多 规格 包邮</td>\n",
       "      <td>1</td>\n",
       "      <td>食品</td>\n",
       "    </tr>\n",
       "    <tr>\n",
       "      <td>13</td>\n",
       "      <td>2f1508c15dfd41a0809c3330dfd7aa49</td>\n",
       "      <td>梳子女士专用长发气囊气垫梳卷发梳木梳网红款男头皮按摩头部经络</td>\n",
       "      <td>百货</td>\n",
       "      <td>梳子女士专用长发气囊气垫梳卷发梳木梳网红款男头皮按摩头部经络</td>\n",
       "      <td>[梳子, 女士, 专用, 长发, 气囊, 气垫, 梳, 卷发, 梳, 木梳, 网红款, 男,...</td>\n",
       "      <td>梳子 女士 专用 长发 气囊 气垫 梳 卷发 梳 木梳 网红款 男 头皮 按摩 头部 经络</td>\n",
       "      <td>0</td>\n",
       "      <td>彩妆</td>\n",
       "    </tr>\n",
       "    <tr>\n",
       "      <td>41</td>\n",
       "      <td>aef26d5904e29baae0726e3654935877</td>\n",
       "      <td>信佳儿童手表女孩男孩防水夜光电子表 小孩学生数字式可爱男女童</td>\n",
       "      <td>饰品</td>\n",
       "      <td>信佳儿童手表女孩男孩防水夜光电子表小孩学生数字式可爱男女童</td>\n",
       "      <td>[信佳, 儿童, 手表, 女孩, 男孩, 防水, 夜光, 电子表, 小孩, 学生, 数字式,...</td>\n",
       "      <td>信佳 儿童 手表 女孩 男孩 防水 夜光 电子表 小孩 学生 数字式 可爱 男 女童</td>\n",
       "      <td>5</td>\n",
       "      <td>母婴</td>\n",
       "    </tr>\n",
       "    <tr>\n",
       "      <td>70</td>\n",
       "      <td>72ff3531baa13fb829561465d79f85ab</td>\n",
       "      <td>电子手表男学生初中潮流防水高中特种兵机械男孩青少年运动电子表</td>\n",
       "      <td>饰品</td>\n",
       "      <td>电子手表男学生初中潮流防水高中特种兵机械男孩青少年运动电子表</td>\n",
       "      <td>[电子手表, 男, 学生, 初中, 潮流, 防水, 高中, 特种兵, 机械, 男孩, 青少年...</td>\n",
       "      <td>电子手表 男 学生 初中 潮流 防水 高中 特种兵 机械 男孩 青少年 运动 电子表</td>\n",
       "      <td>5</td>\n",
       "      <td>男装</td>\n",
       "    </tr>\n",
       "    <tr>\n",
       "      <td>111</td>\n",
       "      <td>323881b9c6ef34a0021960ad39718e1c</td>\n",
       "      <td>2019新款塔罗牌印花纯棉短袖女宽松bf网红T恤欧美潮牌情侣装夏装</td>\n",
       "      <td>女装</td>\n",
       "      <td>新款塔罗牌印花纯棉短袖女宽松网红恤欧美潮牌情侣装夏装</td>\n",
       "      <td>[新款, 塔罗牌, 印花, 纯棉, 短袖, 女, 宽松, 网红恤, 欧美, 潮牌, 情侣装,...</td>\n",
       "      <td>新款 塔罗牌 印花 纯棉 短袖 女 宽松 网红恤 欧美 潮牌 情侣装 夏装</td>\n",
       "      <td>9</td>\n",
       "      <td>男装</td>\n",
       "    </tr>\n",
       "    <tr>\n",
       "      <td>...</td>\n",
       "      <td>...</td>\n",
       "      <td>...</td>\n",
       "      <td>...</td>\n",
       "      <td>...</td>\n",
       "      <td>...</td>\n",
       "      <td>...</td>\n",
       "      <td>...</td>\n",
       "      <td>...</td>\n",
       "    </tr>\n",
       "    <tr>\n",
       "      <td>181288</td>\n",
       "      <td>d7cedd9ae58a83645a556cb80907e8bb</td>\n",
       "      <td>全棉时代氨基酸泡泡一次性洗脸巾纯棉擦脸巾深层清洁卸妆洁面湿巾</td>\n",
       "      <td>百货</td>\n",
       "      <td>全棉时代氨基酸泡泡一次性洗脸巾纯棉擦脸巾深层清洁卸妆洁面湿巾</td>\n",
       "      <td>[全棉, 时代, 氨基酸, 泡泡, 一次性, 洗脸, 巾, 纯棉, 擦, 脸巾, 深层, 清...</td>\n",
       "      <td>全棉 时代 氨基酸 泡泡 一次性 洗脸 巾 纯棉 擦 脸巾 深层 清洁 卸妆 洁面 湿巾</td>\n",
       "      <td>0</td>\n",
       "      <td>彩妆</td>\n",
       "    </tr>\n",
       "    <tr>\n",
       "      <td>181299</td>\n",
       "      <td>ef197481b0775edad047a724da51ece8</td>\n",
       "      <td>肆方食斋芝麻夹心海苔脆儿童即食海苔宝宝孕妇零食办公室宿舍40g</td>\n",
       "      <td>食品</td>\n",
       "      <td>肆方食斋芝麻夹心海苔脆儿童即食海苔宝宝孕妇零食办公室宿舍</td>\n",
       "      <td>[肆方, 食斋, 芝麻, 夹心, 海苔, 脆, 儿童, 即食, 海苔, 宝宝, 孕妇, 零食...</td>\n",
       "      <td>肆方 食斋 芝麻 夹心 海苔 脆 儿童 即食 海苔 宝宝 孕妇 零食 办公室 宿舍</td>\n",
       "      <td>12</td>\n",
       "      <td>生鲜</td>\n",
       "    </tr>\n",
       "    <tr>\n",
       "      <td>181304</td>\n",
       "      <td>f48d30ba710815d4ff6d521a589785f9</td>\n",
       "      <td>Swisse斯维诗血橙葡萄籽精华口服胶原蛋白液500ml维生素热巴同款</td>\n",
       "      <td>食品</td>\n",
       "      <td>斯维诗血橙葡萄籽精华口服胶原蛋白液维生素热巴同款</td>\n",
       "      <td>[斯维诗, 血, 橙, 葡萄籽, 精华, 口服, 胶原蛋白, 液, 维生素, 热巴, 同款]</td>\n",
       "      <td>斯维诗 血 橙 葡萄籽 精华 口服 胶原蛋白 液 维生素 热巴 同款</td>\n",
       "      <td>12</td>\n",
       "      <td>护肤</td>\n",
       "    </tr>\n",
       "    <tr>\n",
       "      <td>181305</td>\n",
       "      <td>f4cc46758c9125c529ec13bf6c709ae9</td>\n",
       "      <td>一禅小和尚限量可爱卡通毛绒公仔玩偶周边礼物</td>\n",
       "      <td>百货</td>\n",
       "      <td>一禅小和尚限量可爱卡通毛绒公仔玩偶周边礼物</td>\n",
       "      <td>[一禅, 小, 和尚, 限量, 可爱, 卡通, 毛绒, 公仔, 玩偶, 周边, 礼物]</td>\n",
       "      <td>一禅 小 和尚 限量 可爱 卡通 毛绒 公仔 玩偶 周边 礼物</td>\n",
       "      <td>0</td>\n",
       "      <td>母婴</td>\n",
       "    </tr>\n",
       "    <tr>\n",
       "      <td>181308</td>\n",
       "      <td>f8e4d4a14cc1f9d719037675aaa7b01f</td>\n",
       "      <td>一禅小和尚团扇水墨淡彩清凉一夏</td>\n",
       "      <td>百货</td>\n",
       "      <td>一禅小和尚团扇水墨淡彩清凉一夏</td>\n",
       "      <td>[一禅, 小, 和尚, 团扇, 水墨, 淡彩, 清凉, 一夏]</td>\n",
       "      <td>一禅 小 和尚 团扇 水墨 淡彩 清凉 一夏</td>\n",
       "      <td>0</td>\n",
       "      <td>食品</td>\n",
       "    </tr>\n",
       "  </tbody>\n",
       "</table>\n",
       "<p>14740 rows × 8 columns</p>\n",
       "</div>"
      ],
      "text/plain": [
       "                                 link_id                                 name  \\\n",
       "2       3ecdd3da072894bf5e34d56953bf128e       荞麦面低糖健康食品粗粮挂面杂粮冷面凉面 无糖食品 多规格包邮   \n",
       "13      2f1508c15dfd41a0809c3330dfd7aa49       梳子女士专用长发气囊气垫梳卷发梳木梳网红款男头皮按摩头部经络   \n",
       "41      aef26d5904e29baae0726e3654935877       信佳儿童手表女孩男孩防水夜光电子表 小孩学生数字式可爱男女童   \n",
       "70      72ff3531baa13fb829561465d79f85ab       电子手表男学生初中潮流防水高中特种兵机械男孩青少年运动电子表   \n",
       "111     323881b9c6ef34a0021960ad39718e1c    2019新款塔罗牌印花纯棉短袖女宽松bf网红T恤欧美潮牌情侣装夏装   \n",
       "...                                  ...                                  ...   \n",
       "181288  d7cedd9ae58a83645a556cb80907e8bb       全棉时代氨基酸泡泡一次性洗脸巾纯棉擦脸巾深层清洁卸妆洁面湿巾   \n",
       "181299  ef197481b0775edad047a724da51ece8      肆方食斋芝麻夹心海苔脆儿童即食海苔宝宝孕妇零食办公室宿舍40g   \n",
       "181304  f48d30ba710815d4ff6d521a589785f9  Swisse斯维诗血橙葡萄籽精华口服胶原蛋白液500ml维生素热巴同款   \n",
       "181305  f4cc46758c9125c529ec13bf6c709ae9                一禅小和尚限量可爱卡通毛绒公仔玩偶周边礼物   \n",
       "181308  f8e4d4a14cc1f9d719037675aaa7b01f                      一禅小和尚团扇水墨淡彩清凉一夏   \n",
       "\n",
       "       tag                      clean_name  \\\n",
       "2       其他    荞麦面低糖健康食品粗粮挂面杂粮冷面凉面无糖食品多规格包邮   \n",
       "13      百货  梳子女士专用长发气囊气垫梳卷发梳木梳网红款男头皮按摩头部经络   \n",
       "41      饰品   信佳儿童手表女孩男孩防水夜光电子表小孩学生数字式可爱男女童   \n",
       "70      饰品  电子手表男学生初中潮流防水高中特种兵机械男孩青少年运动电子表   \n",
       "111     女装      新款塔罗牌印花纯棉短袖女宽松网红恤欧美潮牌情侣装夏装   \n",
       "...     ..                             ...   \n",
       "181288  百货  全棉时代氨基酸泡泡一次性洗脸巾纯棉擦脸巾深层清洁卸妆洁面湿巾   \n",
       "181299  食品    肆方食斋芝麻夹心海苔脆儿童即食海苔宝宝孕妇零食办公室宿舍   \n",
       "181304  食品        斯维诗血橙葡萄籽精华口服胶原蛋白液维生素热巴同款   \n",
       "181305  百货           一禅小和尚限量可爱卡通毛绒公仔玩偶周边礼物   \n",
       "181308  百货                 一禅小和尚团扇水墨淡彩清凉一夏   \n",
       "\n",
       "                                              cutted_text  \\\n",
       "2       [荞麦面, 低糖, 健康, 食品, 粗粮, 挂面, 杂粮, 冷面, 凉面, 无糖, 食品, ...   \n",
       "13      [梳子, 女士, 专用, 长发, 气囊, 气垫, 梳, 卷发, 梳, 木梳, 网红款, 男,...   \n",
       "41      [信佳, 儿童, 手表, 女孩, 男孩, 防水, 夜光, 电子表, 小孩, 学生, 数字式,...   \n",
       "70      [电子手表, 男, 学生, 初中, 潮流, 防水, 高中, 特种兵, 机械, 男孩, 青少年...   \n",
       "111     [新款, 塔罗牌, 印花, 纯棉, 短袖, 女, 宽松, 网红恤, 欧美, 潮牌, 情侣装,...   \n",
       "...                                                   ...   \n",
       "181288  [全棉, 时代, 氨基酸, 泡泡, 一次性, 洗脸, 巾, 纯棉, 擦, 脸巾, 深层, 清...   \n",
       "181299  [肆方, 食斋, 芝麻, 夹心, 海苔, 脆, 儿童, 即食, 海苔, 宝宝, 孕妇, 零食...   \n",
       "181304     [斯维诗, 血, 橙, 葡萄籽, 精华, 口服, 胶原蛋白, 液, 维生素, 热巴, 同款]   \n",
       "181305        [一禅, 小, 和尚, 限量, 可爱, 卡通, 毛绒, 公仔, 玩偶, 周边, 礼物]   \n",
       "181308                    [一禅, 小, 和尚, 团扇, 水墨, 淡彩, 清凉, 一夏]   \n",
       "\n",
       "                                                texts  label pred_tag  \n",
       "2           荞麦面 低糖 健康 食品 粗粮 挂面 杂粮 冷面 凉面 无糖 食品 多 规格 包邮      1       食品  \n",
       "13      梳子 女士 专用 长发 气囊 气垫 梳 卷发 梳 木梳 网红款 男 头皮 按摩 头部 经络      0       彩妆  \n",
       "41         信佳 儿童 手表 女孩 男孩 防水 夜光 电子表 小孩 学生 数字式 可爱 男 女童      5       母婴  \n",
       "70         电子手表 男 学生 初中 潮流 防水 高中 特种兵 机械 男孩 青少年 运动 电子表      5       男装  \n",
       "111             新款 塔罗牌 印花 纯棉 短袖 女 宽松 网红恤 欧美 潮牌 情侣装 夏装      9       男装  \n",
       "...                                               ...    ...      ...  \n",
       "181288   全棉 时代 氨基酸 泡泡 一次性 洗脸 巾 纯棉 擦 脸巾 深层 清洁 卸妆 洁面 湿巾      0       彩妆  \n",
       "181299      肆方 食斋 芝麻 夹心 海苔 脆 儿童 即食 海苔 宝宝 孕妇 零食 办公室 宿舍     12       生鲜  \n",
       "181304             斯维诗 血 橙 葡萄籽 精华 口服 胶原蛋白 液 维生素 热巴 同款     12       护肤  \n",
       "181305                一禅 小 和尚 限量 可爱 卡通 毛绒 公仔 玩偶 周边 礼物      0       母婴  \n",
       "181308                         一禅 小 和尚 团扇 水墨 淡彩 清凉 一夏      0       食品  \n",
       "\n",
       "[14740 rows x 8 columns]"
      ]
     },
     "execution_count": 56,
     "metadata": {},
     "output_type": "execute_result"
    }
   ],
   "source": [
    "tagged_df[tagged_df.tag!=tagged_df.pred_tag]"
   ]
  },
  {
   "cell_type": "code",
   "execution_count": null,
   "metadata": {},
   "outputs": [],
   "source": []
  }
 ],
 "metadata": {
  "kernelspec": {
   "display_name": "py3",
   "language": "python",
   "name": "py3"
  },
  "language_info": {
   "codemirror_mode": {
    "name": "ipython",
    "version": 3
   },
   "file_extension": ".py",
   "mimetype": "text/x-python",
   "name": "python",
   "nbconvert_exporter": "python",
   "pygments_lexer": "ipython3",
   "version": "3.6.10"
  }
 },
 "nbformat": 4,
 "nbformat_minor": 4
}
